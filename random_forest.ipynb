{
 "cells": [
  {
   "cell_type": "code",
   "execution_count": 39,
   "id": "1c7a7820",
   "metadata": {},
   "outputs": [],
   "source": [
    "# Foundations of Data Science \n",
    "# Members: Tashrif Chowdhury (tc2367), Terrell Nowlin (trn224), Akhilesh Chandrashekar (ab10138), Zhenghao Li(zl3954), \n",
    "#          Faiz Andrea Ganz (fag277)\n",
    "# Yelp Reviews: Fraud Detection\n",
    "# December 9th, 2021"
   ]
  },
  {
   "cell_type": "code",
   "execution_count": 1,
   "id": "003b2b5c",
   "metadata": {},
   "outputs": [
    {
     "name": "stdout",
     "output_type": "stream",
     "text": [
      "There are 1 GPU(s) available.\n",
      "We will use the GPU: NVIDIA GeForce RTX 3060 Ti\n"
     ]
    }
   ],
   "source": [
    "import torch\n",
    "\n",
    "# If there's a GPU available...\n",
    "if torch.cuda.is_available():    \n",
    "\n",
    "    # Tell PyTorch to use the GPU.    \n",
    "    device = torch.device(\"cuda\")\n",
    "\n",
    "    print('There are %d GPU(s) available.' % torch.cuda.device_count())\n",
    "\n",
    "    print('We will use the GPU:', torch.cuda.get_device_name(0))\n",
    "\n",
    "# If not...\n",
    "else:\n",
    "    print('No GPU available, using the CPU instead.')\n",
    "    device = torch.device(\"cpu\")"
   ]
  },
  {
   "cell_type": "code",
   "execution_count": 2,
   "id": "6735d22a",
   "metadata": {},
   "outputs": [],
   "source": [
    "import pandas as pd\n",
    "import matplotlib.pyplot as plt\n",
    "import numpy as np\n",
    "\n",
    "from sklearn.ensemble import RandomForestClassifier\n",
    "from imblearn.over_sampling import RandomOverSampler\n",
    "from imblearn.under_sampling import RandomUnderSampler\n",
    "from sklearn.model_selection import train_test_split\n",
    "from sklearn.feature_extraction.text import CountVectorizer\n",
    "from sklearn.feature_extraction.text import TfidfVectorizer\n",
    "from sklearn import metrics\n",
    "from sklearn.metrics import accuracy_score,confusion_matrix,classification_report, f1_score, auc, roc_curve\n",
    "from sklearn.metrics import confusion_matrix, ConfusionMatrixDisplay\n",
    "import string\n",
    "\n",
    "%matplotlib inline"
   ]
  },
  {
   "cell_type": "code",
   "execution_count": 3,
   "id": "d2064ab1",
   "metadata": {},
   "outputs": [],
   "source": [
    "import pandas as pd\n",
    "from sklearn.model_selection import train_test_split\n",
    "\n",
    "data = pd.read_csv('reviewContent', sep=\"\\t\", names=['user_id', 'prod_id', 'date', 'review'])\n",
    "meta = pd.read_csv('metadata', sep='\\t', names = ['user_id', 'prod_id', 'rating', 'label', 'date'])\n",
    "\n",
    "df = pd.merge(data, meta, on = ['user_id', 'date', 'prod_id'])\n",
    "\n",
    "df.loc[df.label == 1, 'label'] = 0\n",
    "df.loc[df.label == -1, 'label'] = 1\n",
    "\n",
    "# Include other features as text\n",
    "df.loc[df.label == 0, 'review'] = '#user_id:' + (df.loc[df.label == 0, 'user_id'].astype(str) + ' '\n",
    "                                + '#prod_id:' + df.loc[df.label == 0, 'prod_id'].astype(str) + ' '\n",
    "                                + '#date:' + df.loc[df.label == 0, 'date'].astype(str) + ' '\n",
    "                                + '#rating:' + df.loc[df.label == 0, 'rating'].astype(str) + ' '\n",
    "                                + '#review:' + df.loc[df.label == 0, 'review'])\n",
    "\n",
    "df.loc[df.label == 1, 'review'] = '#user_id:' + (df.loc[df.label == 1, 'user_id'].astype(str) + ' '\n",
    "                                + '#prod_id:' + df.loc[df.label == 1, 'prod_id'].astype(str) + ' '\n",
    "                                + '#date:' + df.loc[df.label == 1, 'date'].astype(str) + ' '\n",
    "                                + '#rating:' + df.loc[df.label == 1, 'rating'].astype(str) + ' '\n",
    "                                + '#review:' + df.loc[df.label == 1, 'review'])\n",
    "\n",
    "df = df[['review', 'label']]"
   ]
  },
  {
   "cell_type": "code",
   "execution_count": 34,
   "id": "a58e6102",
   "metadata": {},
   "outputs": [
    {
     "data": {
      "text/plain": [
       "0    322097\n",
       "1     36860\n",
       "Name: label, dtype: int64"
      ]
     },
     "execution_count": 34,
     "metadata": {},
     "output_type": "execute_result"
    }
   ],
   "source": [
    "df.label.value_counts()"
   ]
  },
  {
   "cell_type": "code",
   "execution_count": 4,
   "id": "8c01e475",
   "metadata": {},
   "outputs": [],
   "source": [
    "# df = df.head(10000)"
   ]
  },
  {
   "cell_type": "code",
   "execution_count": 5,
   "id": "870470b6",
   "metadata": {},
   "outputs": [],
   "source": [
    "# Get X and y values\n",
    "X, y = df.iloc[:,:-1], df.iloc[:,-1]"
   ]
  },
  {
   "cell_type": "code",
   "execution_count": 6,
   "id": "50a59565",
   "metadata": {},
   "outputs": [],
   "source": [
    "# Train-test split\n",
    "X_train, X_test, y_train, y_test = train_test_split(X, y, test_size=0.33, random_state=42, stratify = y)"
   ]
  },
  {
   "cell_type": "code",
   "execution_count": 7,
   "id": "ff2a7374",
   "metadata": {},
   "outputs": [],
   "source": [
    "# Undersampling on training data\n",
    "ros = RandomUnderSampler(random_state=0)\n",
    "X_resampled, y_resampled = ros.fit_resample(X_train, y_train)"
   ]
  },
  {
   "cell_type": "code",
   "execution_count": 37,
   "id": "3eccf344",
   "metadata": {},
   "outputs": [
    {
     "data": {
      "text/plain": [
       "0    24696\n",
       "1    24696\n",
       "Name: label, dtype: int64"
      ]
     },
     "execution_count": 37,
     "metadata": {},
     "output_type": "execute_result"
    }
   ],
   "source": [
    "y_resampled.value_counts()"
   ]
  },
  {
   "cell_type": "code",
   "execution_count": 38,
   "id": "01ddc230",
   "metadata": {},
   "outputs": [
    {
     "data": {
      "text/plain": [
       "49392"
      ]
     },
     "execution_count": 38,
     "metadata": {},
     "output_type": "execute_result"
    }
   ],
   "source": [
    "len(y_resampled)"
   ]
  },
  {
   "cell_type": "code",
   "execution_count": 8,
   "id": "b8c347a4",
   "metadata": {},
   "outputs": [],
   "source": [
    "X_test = X_test.head(10000)\n",
    "y_test = y_test.head(10000)"
   ]
  },
  {
   "cell_type": "code",
   "execution_count": 9,
   "id": "0320db4b",
   "metadata": {},
   "outputs": [],
   "source": [
    "# CountVectorizer\n",
    "\n",
    "cv = CountVectorizer(stop_words=\"english\", ngram_range=(1,2), binary=True)\n",
    "\n",
    "X_train_cv = cv.fit_transform(X_resampled.review.values.tolist())\n",
    "X_test_cv = cv.transform(X_test.review.values.tolist())"
   ]
  },
  {
   "cell_type": "code",
   "execution_count": 10,
   "id": "81d1b798",
   "metadata": {},
   "outputs": [],
   "source": [
    "# TfidfVectorizer\n",
    "\n",
    "tf_idf = TfidfVectorizer(stop_words=\"english\", ngram_range=(1,2), binary=True)\n",
    "\n",
    "X_train_tf_idf = tf_idf.fit_transform(X_resampled.review.values.tolist())\n",
    "X_test_tf_idf = tf_idf.transform(X_test.review.values.tolist())"
   ]
  },
  {
   "cell_type": "code",
   "execution_count": 11,
   "id": "b4de0267",
   "metadata": {},
   "outputs": [],
   "source": [
    "# RandomForest - TfidfVectorizer\n",
    "rf_tf_idf = RandomForestClassifier()\n",
    "rf_tf_idf.fit(X_train_tf_idf, y_resampled)\n",
    "y_pred_rf_tf_idf = rf_tf_idf.predict_proba(X_test_tf_idf)\n",
    "y_predictions_rf_tf_idf = rf_tf_idf.predict(X_test_tf_idf)\n",
    "fpr_rf_tf_idf, tpr_rf_tf_idf, thresholds_rf_tf_idf = metrics.roc_curve(y_test, y_pred_rf_tf_idf[:,1], pos_label = 1)\n",
    "roc_auc_score_rf_tf_idf = metrics.auc(fpr_rf_tf_idf, tpr_rf_tf_idf)"
   ]
  },
  {
   "cell_type": "code",
   "execution_count": 12,
   "id": "193b0863",
   "metadata": {},
   "outputs": [
    {
     "name": "stdout",
     "output_type": "stream",
     "text": [
      "0.5543\n",
      "              precision    recall  f1-score   support\n",
      "\n",
      "           0       0.95      0.53      0.68      8982\n",
      "           1       0.15      0.75      0.26      1018\n",
      "\n",
      "    accuracy                           0.55     10000\n",
      "   macro avg       0.55      0.64      0.47     10000\n",
      "weighted avg       0.87      0.55      0.64     10000\n",
      "\n"
     ]
    },
    {
     "data": {
      "image/png": "[encoded data removed]",
      "text/plain": [
       "<Figure size 432x288 with 2 Axes>"
      ]
     },
     "metadata": {
      "needs_background": "light"
     },
     "output_type": "display_data"
    }
   ],
   "source": [
    "print(accuracy_score(y_test,y_predictions_rf_tf_idf))\n",
    "print(classification_report(y_test,y_predictions_rf_tf_idf))\n",
    "\n",
    "cm = confusion_matrix(y_test, y_predictions_rf_tf_idf.tolist())\n",
    "display = ConfusionMatrixDisplay(cm, display_labels = [0, 1])\n",
    "display.plot()\n",
    "plt.show()"
   ]
  },
  {
   "cell_type": "code",
   "execution_count": 35,
   "id": "e14188c0",
   "metadata": {},
   "outputs": [
    {
     "name": "stdout",
     "output_type": "stream",
     "text": [
      "Testing F1 score: 0.6385477014214689\n",
      "Testing AUC score: 0.6960147100575305\n"
     ]
    }
   ],
   "source": [
    "print('Testing F1 score: {}'.format(metrics.f1_score(y_test, y_predictions_rf_tf_idf, average='weighted')))\n",
    "print('Testing AUC score: {}'.format(metrics.auc(fpr_rf_tf_idf, tpr_rf_tf_idf)))"
   ]
  },
  {
   "cell_type": "code",
   "execution_count": 13,
   "id": "b09921c6",
   "metadata": {},
   "outputs": [],
   "source": [
    "# RandomForest - CountVectorizer\n",
    "rf_cv = RandomForestClassifier()\n",
    "rf_cv.fit(X_train_cv, y_resampled)\n",
    "y_pred_rf_cv = rf_cv.predict_proba(X_test_cv)\n",
    "y_predictions_rf_cv = rf_cv.predict(X_test_cv)\n",
    "fpr_rf_cv, tpr_rf_cv, thresholds_rf_cv = metrics.roc_curve(y_test, y_pred_rf_cv[:,1], pos_label = 1)\n",
    "roc_auc_score_rf_cv = metrics.auc(fpr_rf_cv, tpr_rf_cv)"
   ]
  },
  {
   "cell_type": "code",
   "execution_count": 14,
   "id": "9f8194af",
   "metadata": {},
   "outputs": [
    {
     "name": "stdout",
     "output_type": "stream",
     "text": [
      "0.5962\n",
      "              precision    recall  f1-score   support\n",
      "\n",
      "           0       0.95      0.58      0.72      8982\n",
      "           1       0.16      0.72      0.27      1018\n",
      "\n",
      "    accuracy                           0.60     10000\n",
      "   macro avg       0.56      0.65      0.49     10000\n",
      "weighted avg       0.87      0.60      0.68     10000\n",
      "\n"
     ]
    },
    {
     "data": {
      "image/png": "[encoded data removed]",
      "text/plain": [
       "<Figure size 432x288 with 2 Axes>"
      ]
     },
     "metadata": {
      "needs_background": "light"
     },
     "output_type": "display_data"
    }
   ],
   "source": [
    "print(accuracy_score(y_test,y_predictions_rf_cv))\n",
    "print(classification_report(y_test,y_predictions_rf_cv))\n",
    "\n",
    "confusion_matrix = confusion_matrix(y_test, y_predictions_rf_cv)\n",
    "display = ConfusionMatrixDisplay(confusion_matrix, display_labels = [0, 1])\n",
    "display.plot()\n",
    "plt.show()"
   ]
  },
  {
   "cell_type": "code",
   "execution_count": 36,
   "id": "b3ca1695",
   "metadata": {},
   "outputs": [
    {
     "name": "stdout",
     "output_type": "stream",
     "text": [
      "Testing F1 score: 0.6750900961549301\n",
      "Testing AUC score: 0.7098853896397904\n"
     ]
    }
   ],
   "source": [
    "print('Testing F1 score: {}'.format(metrics.f1_score(y_test, y_predictions_rf_cv, average='weighted')))\n",
    "print('Testing AUC score: {}'.format(metrics.auc(fpr_rf_cv, tpr_rf_cv)))"
   ]
  },
  {
   "cell_type": "code",
   "execution_count": 15,
   "id": "2e9a52aa",
   "metadata": {},
   "outputs": [
    {
     "data": {
      "image/png": "[encoded data removed]",
      "text/plain": [
       "<Figure size 900x600 with 1 Axes>"
      ]
     },
     "metadata": {
      "needs_background": "light"
     },
     "output_type": "display_data"
    }
   ],
   "source": [
    "#Plot\n",
    "plt.rcParams['figure.dpi'] = 150\n",
    "plt.plot(fpr_rf_tf_idf, tpr_rf_tf_idf, label=\"RandomForest - TfidfVectorizer AUC = {:.4f}\".format(roc_auc_score_rf_tf_idf))\n",
    "plt.plot(fpr_rf_cv, tpr_rf_cv, label=\"RandomForest - CountVectorizer AUC = {:.4f}\".format(roc_auc_score_rf_cv))\n",
    "plt.xlabel(\"False Positive Rate\")\n",
    "plt.ylabel(\"True Positive Rate\")\n",
    "plt.title(\"ROC Curve\")\n",
    "plt.legend(loc='lower right', fontsize=7)\n",
    "plt.show()"
   ]
  },
  {
   "cell_type": "markdown",
   "id": "07383a2f",
   "metadata": {},
   "source": [
    "# Parameter Tuning"
   ]
  },
  {
   "cell_type": "code",
   "execution_count": 16,
   "id": "a2e72fff",
   "metadata": {},
   "outputs": [],
   "source": [
    "import warnings\n",
    "warnings.filterwarnings(\"ignore\")"
   ]
  },
  {
   "cell_type": "code",
   "execution_count": 17,
   "id": "fe92a7ab",
   "metadata": {},
   "outputs": [],
   "source": [
    "from sklearn.model_selection import GridSearchCV\n",
    "from sklearn.model_selection import RandomizedSearchCV"
   ]
  },
  {
   "cell_type": "code",
   "execution_count": 18,
   "id": "9a3efd92",
   "metadata": {},
   "outputs": [],
   "source": [
    "param_grid_rf ={'n_estimators':[20,30,40],'min_samples_split':[2, 5],'min_samples_leaf':[1,2]}"
   ]
  },
  {
   "cell_type": "code",
   "execution_count": 19,
   "id": "d584e57a",
   "metadata": {},
   "outputs": [],
   "source": [
    "search = RandomizedSearchCV(rf_cv, param_grid_rf, scoring='accuracy')"
   ]
  },
  {
   "cell_type": "code",
   "execution_count": 20,
   "id": "ef7ca088",
   "metadata": {},
   "outputs": [],
   "source": [
    "result = search.fit(X_train_cv, y_resampled)"
   ]
  },
  {
   "cell_type": "code",
   "execution_count": 21,
   "id": "f899e792",
   "metadata": {},
   "outputs": [
    {
     "name": "stdout",
     "output_type": "stream",
     "text": [
      "Best Score: 0.6491940801167297\n",
      "Best Hyperparameters: {'n_estimators': 40, 'min_samples_split': 2, 'min_samples_leaf': 2}\n"
     ]
    }
   ],
   "source": [
    " # summarize result\n",
    "print('Best Score: %s' % result.best_score_)\n",
    "print('Best Hyperparameters: %s' % result.best_params_)"
   ]
  },
  {
   "cell_type": "code",
   "execution_count": 23,
   "id": "731d7c2d",
   "metadata": {},
   "outputs": [],
   "source": [
    "grid_pred = result.best_estimator_.predict(X_test_tf_idf)"
   ]
  },
  {
   "cell_type": "code",
   "execution_count": 24,
   "id": "77b20a05",
   "metadata": {},
   "outputs": [
    {
     "name": "stdout",
     "output_type": "stream",
     "text": [
      "Testing accuracy 0.1018\n",
      "Testing F1 score: 0.018811472136503905\n",
      "Testing AUC score: 0.5\n"
     ]
    }
   ],
   "source": [
    "print('Testing accuracy %s' % accuracy_score(y_test, grid_pred))\n",
    "print('Testing F1 score: {}'.format(f1_score(y_test, grid_pred, average='weighted')))\n",
    "fpr, tpr, thresholds = roc_curve(y_test, grid_pred, pos_label = 1)\n",
    "print('Testing AUC score: {}'.format(auc(fpr, tpr)))"
   ]
  },
  {
   "cell_type": "code",
   "execution_count": null,
   "id": "dc7b8660",
   "metadata": {},
   "outputs": [],
   "source": []
  }
 ],
 "metadata": {
  "kernelspec": {
   "display_name": "Python 3",
   "language": "python",
   "name": "python3"
  },
  "language_info": {
   "codemirror_mode": {
    "name": "ipython",
    "version": 3
   },
   "file_extension": ".py",
   "mimetype": "text/x-python",
   "name": "python",
   "nbconvert_exporter": "python",
   "pygments_lexer": "ipython3",
   "version": "3.8.8"
  }
 },
 "nbformat": 4,
 "nbformat_minor": 5
}
